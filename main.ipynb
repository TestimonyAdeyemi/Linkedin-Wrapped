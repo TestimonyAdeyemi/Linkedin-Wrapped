{
 "cells": [
  {
   "cell_type": "code",
   "execution_count": 43,
   "id": "7499b81e-8e82-48e5-94b2-887ece9c2df0",
   "metadata": {},
   "outputs": [
    {
     "name": "stderr",
     "output_type": "stream",
     "text": [
      "c:\\Users\\KABSTORE\\AppData\\Local\\Programs\\Python\\Python311\\Lib\\site-packages\\openpyxl\\styles\\stylesheet.py:226: UserWarning: Workbook contains no default style, apply openpyxl's default\n",
      "  warn(\"Workbook contains no default style, apply openpyxl's default\")\n",
      "c:\\Users\\KABSTORE\\AppData\\Local\\Programs\\Python\\Python311\\Lib\\site-packages\\openpyxl\\styles\\stylesheet.py:226: UserWarning: Workbook contains no default style, apply openpyxl's default\n",
      "  warn(\"Workbook contains no default style, apply openpyxl's default\")\n",
      "c:\\Users\\KABSTORE\\AppData\\Local\\Programs\\Python\\Python311\\Lib\\site-packages\\openpyxl\\styles\\stylesheet.py:226: UserWarning: Workbook contains no default style, apply openpyxl's default\n",
      "  warn(\"Workbook contains no default style, apply openpyxl's default\")\n",
      "c:\\Users\\KABSTORE\\AppData\\Local\\Programs\\Python\\Python311\\Lib\\site-packages\\openpyxl\\styles\\stylesheet.py:226: UserWarning: Workbook contains no default style, apply openpyxl's default\n",
      "  warn(\"Workbook contains no default style, apply openpyxl's default\")\n"
     ]
    }
   ],
   "source": [
    "import pandas as pd\n",
    "ENGAGEMENT = pd.read_excel('Content_2022-12-01_2023-11-30_TestimonyAdeyemi.xlsx', sheet_name='ENGAGEMENT')\n",
    "TOP_POSTS = pd.read_excel('Content_2022-12-01_2023-11-30_TestimonyAdeyemi.xlsx',sheet_name='TOP POSTS')\n",
    "FOLLOWER = pd.read_excel('Content_2022-12-01_2023-11-30_TestimonyAdeyemi.xlsx', sheet_name='FOLLOWERS')\n",
    "DEMOGRAPHICS = pd.read_excel('Content_2022-12-01_2023-11-30_TestimonyAdeyemi.xlsx', sheet_name='DEMOGRAPHICS')"
   ]
  },
  {
   "cell_type": "code",
   "execution_count": 44,
   "id": "280f1030-1088-48cf-924a-d180cf72cd10",
   "metadata": {},
   "outputs": [
    {
     "data": {
      "text/html": [
       "<div>\n",
       "<style scoped>\n",
       "    .dataframe tbody tr th:only-of-type {\n",
       "        vertical-align: middle;\n",
       "    }\n",
       "\n",
       "    .dataframe tbody tr th {\n",
       "        vertical-align: top;\n",
       "    }\n",
       "\n",
       "    .dataframe thead th {\n",
       "        text-align: right;\n",
       "    }\n",
       "</style>\n",
       "<table border=\"1\" class=\"dataframe\">\n",
       "  <thead>\n",
       "    <tr style=\"text-align: right;\">\n",
       "      <th></th>\n",
       "      <th>Date</th>\n",
       "      <th>Impressions</th>\n",
       "      <th>Engagements</th>\n",
       "    </tr>\n",
       "  </thead>\n",
       "  <tbody>\n",
       "    <tr>\n",
       "      <th>0</th>\n",
       "      <td>12/1/2022</td>\n",
       "      <td>0</td>\n",
       "      <td>0</td>\n",
       "    </tr>\n",
       "    <tr>\n",
       "      <th>1</th>\n",
       "      <td>12/2/2022</td>\n",
       "      <td>0</td>\n",
       "      <td>0</td>\n",
       "    </tr>\n",
       "    <tr>\n",
       "      <th>2</th>\n",
       "      <td>12/3/2022</td>\n",
       "      <td>0</td>\n",
       "      <td>0</td>\n",
       "    </tr>\n",
       "    <tr>\n",
       "      <th>3</th>\n",
       "      <td>12/4/2022</td>\n",
       "      <td>0</td>\n",
       "      <td>0</td>\n",
       "    </tr>\n",
       "    <tr>\n",
       "      <th>4</th>\n",
       "      <td>12/5/2022</td>\n",
       "      <td>0</td>\n",
       "      <td>0</td>\n",
       "    </tr>\n",
       "  </tbody>\n",
       "</table>\n",
       "</div>"
      ],
      "text/plain": [
       "        Date  Impressions  Engagements\n",
       "0  12/1/2022            0            0\n",
       "1  12/2/2022            0            0\n",
       "2  12/3/2022            0            0\n",
       "3  12/4/2022            0            0\n",
       "4  12/5/2022            0            0"
      ]
     },
     "execution_count": 44,
     "metadata": {},
     "output_type": "execute_result"
    }
   ],
   "source": [
    "ENGAGEMENT.head(5)"
   ]
  },
  {
   "cell_type": "code",
   "execution_count": 45,
   "id": "dd2000ed-c47c-4729-94ca-0ff2bbfba029",
   "metadata": {},
   "outputs": [],
   "source": [
    "ENGAGEMENT['Date'] = pd.to_datetime(ENGAGEMENT['Date'])"
   ]
  },
  {
   "cell_type": "code",
   "execution_count": 46,
   "id": "dcdd6eb6-e698-48de-a3fd-e0f0e251fc75",
   "metadata": {},
   "outputs": [],
   "source": [
    "ENGAGEMENT = ENGAGEMENT[(ENGAGEMENT['Date'] >= '01/01/2023') & (ENGAGEMENT['Date'] <= '11/30/2023')]"
   ]
  },
  {
   "cell_type": "code",
   "execution_count": 47,
   "id": "d42dcf34-f0a8-46d3-ad8d-4e9c8cfa408a",
   "metadata": {},
   "outputs": [],
   "source": [
    "ENGAGEMENT['month'] = ENGAGEMENT['Date'].dt.month"
   ]
  },
  {
   "cell_type": "code",
   "execution_count": 48,
   "id": "778bef3a-1fa0-4332-90fb-5d47bf51c931",
   "metadata": {},
   "outputs": [
    {
     "data": {
      "text/html": [
       "<div>\n",
       "<style scoped>\n",
       "    .dataframe tbody tr th:only-of-type {\n",
       "        vertical-align: middle;\n",
       "    }\n",
       "\n",
       "    .dataframe tbody tr th {\n",
       "        vertical-align: top;\n",
       "    }\n",
       "\n",
       "    .dataframe thead th {\n",
       "        text-align: right;\n",
       "    }\n",
       "</style>\n",
       "<table border=\"1\" class=\"dataframe\">\n",
       "  <thead>\n",
       "    <tr style=\"text-align: right;\">\n",
       "      <th></th>\n",
       "      <th>Date</th>\n",
       "      <th>Impressions</th>\n",
       "      <th>Engagements</th>\n",
       "      <th>month</th>\n",
       "    </tr>\n",
       "  </thead>\n",
       "  <tbody>\n",
       "    <tr>\n",
       "      <th>31</th>\n",
       "      <td>2023-01-01</td>\n",
       "      <td>0</td>\n",
       "      <td>0</td>\n",
       "      <td>1</td>\n",
       "    </tr>\n",
       "    <tr>\n",
       "      <th>32</th>\n",
       "      <td>2023-01-02</td>\n",
       "      <td>0</td>\n",
       "      <td>0</td>\n",
       "      <td>1</td>\n",
       "    </tr>\n",
       "    <tr>\n",
       "      <th>33</th>\n",
       "      <td>2023-01-03</td>\n",
       "      <td>0</td>\n",
       "      <td>0</td>\n",
       "      <td>1</td>\n",
       "    </tr>\n",
       "    <tr>\n",
       "      <th>34</th>\n",
       "      <td>2023-01-04</td>\n",
       "      <td>0</td>\n",
       "      <td>0</td>\n",
       "      <td>1</td>\n",
       "    </tr>\n",
       "    <tr>\n",
       "      <th>35</th>\n",
       "      <td>2023-01-05</td>\n",
       "      <td>0</td>\n",
       "      <td>0</td>\n",
       "      <td>1</td>\n",
       "    </tr>\n",
       "    <tr>\n",
       "      <th>...</th>\n",
       "      <td>...</td>\n",
       "      <td>...</td>\n",
       "      <td>...</td>\n",
       "      <td>...</td>\n",
       "    </tr>\n",
       "    <tr>\n",
       "      <th>360</th>\n",
       "      <td>2023-11-26</td>\n",
       "      <td>295</td>\n",
       "      <td>8</td>\n",
       "      <td>11</td>\n",
       "    </tr>\n",
       "    <tr>\n",
       "      <th>361</th>\n",
       "      <td>2023-11-27</td>\n",
       "      <td>309</td>\n",
       "      <td>9</td>\n",
       "      <td>11</td>\n",
       "    </tr>\n",
       "    <tr>\n",
       "      <th>362</th>\n",
       "      <td>2023-11-28</td>\n",
       "      <td>329</td>\n",
       "      <td>10</td>\n",
       "      <td>11</td>\n",
       "    </tr>\n",
       "    <tr>\n",
       "      <th>363</th>\n",
       "      <td>2023-11-29</td>\n",
       "      <td>252</td>\n",
       "      <td>9</td>\n",
       "      <td>11</td>\n",
       "    </tr>\n",
       "    <tr>\n",
       "      <th>364</th>\n",
       "      <td>2023-11-30</td>\n",
       "      <td>110</td>\n",
       "      <td>4</td>\n",
       "      <td>11</td>\n",
       "    </tr>\n",
       "  </tbody>\n",
       "</table>\n",
       "<p>334 rows × 4 columns</p>\n",
       "</div>"
      ],
      "text/plain": [
       "          Date  Impressions  Engagements  month\n",
       "31  2023-01-01            0            0      1\n",
       "32  2023-01-02            0            0      1\n",
       "33  2023-01-03            0            0      1\n",
       "34  2023-01-04            0            0      1\n",
       "35  2023-01-05            0            0      1\n",
       "..         ...          ...          ...    ...\n",
       "360 2023-11-26          295            8     11\n",
       "361 2023-11-27          309            9     11\n",
       "362 2023-11-28          329           10     11\n",
       "363 2023-11-29          252            9     11\n",
       "364 2023-11-30          110            4     11\n",
       "\n",
       "[334 rows x 4 columns]"
      ]
     },
     "execution_count": 48,
     "metadata": {},
     "output_type": "execute_result"
    }
   ],
   "source": [
    "ENGAGEMENT"
   ]
  },
  {
   "cell_type": "markdown",
   "id": "ab564ea3-eafb-4b9c-86d8-4ab9ea0f3fe4",
   "metadata": {},
   "source": [
    "1. Total Impressions\n",
    "2. The best month Impressions/engagement\n",
    "3. Top 5 posts - engagement\n",
    "4. Top 5 Job titles\n",
    "5. Top 5 Locations\n",
    "6. Top 5 Industries\n",
    "\n",
    "7. User name and picture"
   ]
  },
  {
   "cell_type": "code",
   "execution_count": 108,
   "id": "46644340-c122-421b-b32d-3e5665ddeb0d",
   "metadata": {},
   "outputs": [
    {
     "name": "stdout",
     "output_type": "stream",
     "text": [
      "1.2M\n"
     ]
    }
   ],
   "source": [
    "def format_large_number(number):\n",
    "    if number >= 1e6:  # If the number is a million or more\n",
    "        return f\"{number / 1e6:.1f}M\"\n",
    "    elif number >= 1e3:  # If the number is a thousand or more\n",
    "        return f\"{number / 1e3:.1f}k\"\n",
    "    else:\n",
    "        return str(number)\n",
    "\n",
    "# Example usage\n",
    "large_number = 1234567\n",
    "formatted_number = format_large_number(large_number)\n",
    "print(formatted_number)\n"
   ]
  },
  {
   "cell_type": "code",
   "execution_count": 49,
   "id": "deaac5cd-affc-4cf0-ac63-1a5d08ee1664",
   "metadata": {},
   "outputs": [
    {
     "data": {
      "text/plain": [
       "36009"
      ]
     },
     "execution_count": 49,
     "metadata": {},
     "output_type": "execute_result"
    }
   ],
   "source": [
    "Total_Impressions = ENGAGEMENT['Impressions'].sum() \n",
    "Total_Impressions"
   ]
  },
  {
   "cell_type": "code",
   "execution_count": 110,
   "id": "fc2ebb88-840e-4305-99fb-bce6356ca5ab",
   "metadata": {},
   "outputs": [
    {
     "data": {
      "text/plain": [
       "'1.1k'"
      ]
     },
     "execution_count": 110,
     "metadata": {},
     "output_type": "execute_result"
    }
   ],
   "source": [
    "Total_Engagements = ENGAGEMENT['Engagements'].sum() \n",
    "Total_Engagements = format_large_number(Total_Engagements)\n",
    "Total_Engagements "
   ]
  },
  {
   "cell_type": "code",
   "execution_count": 51,
   "id": "9cc7d5a8-463e-4f4d-8875-7b2faa515a73",
   "metadata": {},
   "outputs": [],
   "source": [
    "monthly_engagement = ENGAGEMENT.groupby('month')"
   ]
  },
  {
   "cell_type": "code",
   "execution_count": 52,
   "id": "62a86108-3ad4-4f71-b640-c3f601f21266",
   "metadata": {},
   "outputs": [
    {
     "name": "stdout",
     "output_type": "stream",
     "text": [
      "    month  Impressions  Engagements\n",
      "10     11        18232          567\n",
      "8       9        10316          310\n",
      "9      10         6416          240\n",
      "5       6          739           22\n",
      "6       7          282            5\n",
      "4       5           10            0\n",
      "7       8           10            0\n",
      "0       1            2            0\n",
      "2       3            2            0\n",
      "1       2            0            0\n",
      "3       4            0            0\n"
     ]
    }
   ],
   "source": [
    "# Assuming 'month' is a column in your DataFrame\n",
    "grouped_df = ENGAGEMENT.groupby('month').agg({\n",
    "    'Impressions': 'sum',  # You can change the aggregation function as needed\n",
    "    'Engagements': 'sum'\n",
    "}).reset_index()\n",
    "\n",
    "# Now, you can sort the new DataFrame\n",
    "grouped_df = grouped_df.sort_values(['Impressions', 'Engagements'], ascending=[False, False])\n",
    "\n",
    "# Display or use the grouped and sorted DataFrame as needed\n",
    "print(grouped_df)"
   ]
  },
  {
   "cell_type": "code",
   "execution_count": 53,
   "id": "a20976a2-d0bc-4767-9db1-4114e2a12577",
   "metadata": {},
   "outputs": [
    {
     "name": "stdout",
     "output_type": "stream",
     "text": [
      "month             11\n",
      "Impressions    18232\n",
      "Engagements      567\n",
      "Name: 10, dtype: int64\n"
     ]
    }
   ],
   "source": [
    "best_month = grouped_df.iloc[0]\n",
    "print(best_month)"
   ]
  },
  {
   "cell_type": "code",
   "execution_count": 111,
   "id": "8683d66d-4fbb-4dec-8cc4-60e2ed625cd3",
   "metadata": {},
   "outputs": [
    {
     "data": {
      "text/plain": [
       "'36.0k'"
      ]
     },
     "execution_count": 111,
     "metadata": {},
     "output_type": "execute_result"
    }
   ],
   "source": [
    "Total_Impressions = ENGAGEMENT['Impressions'].sum() \n",
    "Total_Impressions = format_large_number(Total_Impressions)\n",
    "Total_Impressions\n"
   ]
  },
  {
   "cell_type": "code",
   "execution_count": 55,
   "id": "6c53bd02-25d5-46b2-b2ab-14fffdb6b831",
   "metadata": {},
   "outputs": [],
   "source": [
    "# Assuming your DataFrame is named TOP_POSTS\n",
    "# Assign the second row as the header\n",
    "TOP_POSTS.columns = TOP_POSTS.iloc[1]\n",
    "\n",
    "# Drop the rows above the second row\n",
    "TOP_POSTS = TOP_POSTS[2:].reset_index(drop=True)\n"
   ]
  },
  {
   "cell_type": "code",
   "execution_count": 56,
   "id": "d846010c-6d25-44e6-853f-b73d7270ea7d",
   "metadata": {},
   "outputs": [
    {
     "data": {
      "text/html": [
       "<div>\n",
       "<style scoped>\n",
       "    .dataframe tbody tr th:only-of-type {\n",
       "        vertical-align: middle;\n",
       "    }\n",
       "\n",
       "    .dataframe tbody tr th {\n",
       "        vertical-align: top;\n",
       "    }\n",
       "\n",
       "    .dataframe thead th {\n",
       "        text-align: right;\n",
       "    }\n",
       "</style>\n",
       "<table border=\"1\" class=\"dataframe\">\n",
       "  <thead>\n",
       "    <tr style=\"text-align: right;\">\n",
       "      <th>1</th>\n",
       "      <th>Post URL</th>\n",
       "      <th>Post URL</th>\n",
       "      <th>Engagements</th>\n",
       "    </tr>\n",
       "  </thead>\n",
       "  <tbody>\n",
       "    <tr>\n",
       "      <th>0</th>\n",
       "      <td>https://www.linkedin.com/feed/update/urn:li:ac...</td>\n",
       "      <td>https://www.linkedin.com/feed/update/urn:li:ac...</td>\n",
       "      <td>134</td>\n",
       "    </tr>\n",
       "    <tr>\n",
       "      <th>1</th>\n",
       "      <td>https://www.linkedin.com/feed/update/urn:li:ac...</td>\n",
       "      <td>https://www.linkedin.com/feed/update/urn:li:ac...</td>\n",
       "      <td>69</td>\n",
       "    </tr>\n",
       "    <tr>\n",
       "      <th>2</th>\n",
       "      <td>https://www.linkedin.com/feed/update/urn:li:ac...</td>\n",
       "      <td>https://www.linkedin.com/feed/update/urn:li:ac...</td>\n",
       "      <td>67</td>\n",
       "    </tr>\n",
       "    <tr>\n",
       "      <th>3</th>\n",
       "      <td>https://www.linkedin.com/feed/update/urn:li:ac...</td>\n",
       "      <td>https://www.linkedin.com/feed/update/urn:li:ac...</td>\n",
       "      <td>52</td>\n",
       "    </tr>\n",
       "    <tr>\n",
       "      <th>4</th>\n",
       "      <td>https://www.linkedin.com/feed/update/urn:li:ac...</td>\n",
       "      <td>https://www.linkedin.com/feed/update/urn:li:ac...</td>\n",
       "      <td>48</td>\n",
       "    </tr>\n",
       "  </tbody>\n",
       "</table>\n",
       "</div>"
      ],
      "text/plain": [
       "1                                           Post URL  \\\n",
       "0  https://www.linkedin.com/feed/update/urn:li:ac...   \n",
       "1  https://www.linkedin.com/feed/update/urn:li:ac...   \n",
       "2  https://www.linkedin.com/feed/update/urn:li:ac...   \n",
       "3  https://www.linkedin.com/feed/update/urn:li:ac...   \n",
       "4  https://www.linkedin.com/feed/update/urn:li:ac...   \n",
       "\n",
       "1                                           Post URL Engagements  \n",
       "0  https://www.linkedin.com/feed/update/urn:li:ac...         134  \n",
       "1  https://www.linkedin.com/feed/update/urn:li:ac...          69  \n",
       "2  https://www.linkedin.com/feed/update/urn:li:ac...          67  \n",
       "3  https://www.linkedin.com/feed/update/urn:li:ac...          52  \n",
       "4  https://www.linkedin.com/feed/update/urn:li:ac...          48  "
      ]
     },
     "execution_count": 56,
     "metadata": {},
     "output_type": "execute_result"
    }
   ],
   "source": [
    "top_5_engaging_posts = TOP_POSTS[['Post URL', 'Engagements']].head(5)\n",
    "top_5_engaging_posts"
   ]
  },
  {
   "cell_type": "code",
   "execution_count": 57,
   "id": "6f4a8795-cae2-4885-9bac-cf161ef2f3dd",
   "metadata": {},
   "outputs": [
    {
     "data": {
      "text/html": [
       "<div>\n",
       "<style scoped>\n",
       "    .dataframe tbody tr th:only-of-type {\n",
       "        vertical-align: middle;\n",
       "    }\n",
       "\n",
       "    .dataframe tbody tr th {\n",
       "        vertical-align: top;\n",
       "    }\n",
       "\n",
       "    .dataframe thead th {\n",
       "        text-align: right;\n",
       "    }\n",
       "</style>\n",
       "<table border=\"1\" class=\"dataframe\">\n",
       "  <thead>\n",
       "    <tr style=\"text-align: right;\">\n",
       "      <th></th>\n",
       "      <th>Total followers on 11/30/2023:</th>\n",
       "      <th>633</th>\n",
       "    </tr>\n",
       "  </thead>\n",
       "  <tbody>\n",
       "    <tr>\n",
       "      <th>0</th>\n",
       "      <td>NaN</td>\n",
       "      <td>NaN</td>\n",
       "    </tr>\n",
       "    <tr>\n",
       "      <th>1</th>\n",
       "      <td>Date</td>\n",
       "      <td>New followers</td>\n",
       "    </tr>\n",
       "    <tr>\n",
       "      <th>2</th>\n",
       "      <td>12/1/2022</td>\n",
       "      <td>0</td>\n",
       "    </tr>\n",
       "    <tr>\n",
       "      <th>3</th>\n",
       "      <td>12/2/2022</td>\n",
       "      <td>0</td>\n",
       "    </tr>\n",
       "    <tr>\n",
       "      <th>4</th>\n",
       "      <td>12/3/2022</td>\n",
       "      <td>0</td>\n",
       "    </tr>\n",
       "  </tbody>\n",
       "</table>\n",
       "</div>"
      ],
      "text/plain": [
       "  Total followers on 11/30/2023:            633\n",
       "0                            NaN            NaN\n",
       "1                           Date  New followers\n",
       "2                      12/1/2022              0\n",
       "3                      12/2/2022              0\n",
       "4                      12/3/2022              0"
      ]
     },
     "execution_count": 57,
     "metadata": {},
     "output_type": "execute_result"
    }
   ],
   "source": [
    "FOLLOWER.head(5)"
   ]
  },
  {
   "cell_type": "code",
   "execution_count": 58,
   "id": "08228bfb-c32a-4117-9fde-1c788f48489e",
   "metadata": {},
   "outputs": [
    {
     "name": "stdout",
     "output_type": "stream",
     "text": [
      "633 total followers\n"
     ]
    }
   ],
   "source": [
    "header = FOLLOWER.columns.tolist()\n",
    "last_element = header[-1]\n",
    "New_followers = f\"{last_element} total followers\"\n",
    "print(New_followers)"
   ]
  },
  {
   "cell_type": "code",
   "execution_count": 59,
   "id": "069a4584-5300-46f8-92d3-36565257edc8",
   "metadata": {},
   "outputs": [],
   "source": [
    "# Assign the second row as the header\n",
    "FOLLOWER.columns = FOLLOWER.iloc[1]\n",
    "\n",
    "# Drop the rows above the second row\n",
    "FOLLOWER = FOLLOWER[2:].reset_index(drop=True)"
   ]
  },
  {
   "cell_type": "code",
   "execution_count": 60,
   "id": "2c82e090-3e95-4bc1-9ffd-df42bb60efaa",
   "metadata": {},
   "outputs": [],
   "source": [
    "FOLLOWER = FOLLOWER[(FOLLOWER['Date'] >= '01/01/2023') & (FOLLOWER['Date'] <= '11/30/2023')]"
   ]
  },
  {
   "cell_type": "code",
   "execution_count": 61,
   "id": "95071fe4-c421-4b25-8218-7649befe8b0c",
   "metadata": {},
   "outputs": [],
   "source": [
    "Total_New_FOLLOWER = FOLLOWER['New followers'].sum() \n",
    "Total_New_FOLLOWER = str(Total_New_FOLLOWER)"
   ]
  },
  {
   "cell_type": "code",
   "execution_count": 62,
   "id": "d2be6691-2110-4fa1-ae3b-02b6a981e425",
   "metadata": {},
   "outputs": [
    {
     "data": {
      "text/html": [
       "<div>\n",
       "<style scoped>\n",
       "    .dataframe tbody tr th:only-of-type {\n",
       "        vertical-align: middle;\n",
       "    }\n",
       "\n",
       "    .dataframe tbody tr th {\n",
       "        vertical-align: top;\n",
       "    }\n",
       "\n",
       "    .dataframe thead th {\n",
       "        text-align: right;\n",
       "    }\n",
       "</style>\n",
       "<table border=\"1\" class=\"dataframe\">\n",
       "  <thead>\n",
       "    <tr style=\"text-align: right;\">\n",
       "      <th></th>\n",
       "      <th>Top Demographics</th>\n",
       "      <th>Value</th>\n",
       "      <th>Percentage</th>\n",
       "    </tr>\n",
       "  </thead>\n",
       "  <tbody>\n",
       "    <tr>\n",
       "      <th>0</th>\n",
       "      <td>Job titles</td>\n",
       "      <td>Founder</td>\n",
       "      <td>0.045741</td>\n",
       "    </tr>\n",
       "    <tr>\n",
       "      <th>1</th>\n",
       "      <td>Job titles</td>\n",
       "      <td>Software Engineer</td>\n",
       "      <td>0.045741</td>\n",
       "    </tr>\n",
       "    <tr>\n",
       "      <th>2</th>\n",
       "      <td>Job titles</td>\n",
       "      <td>Chief Executive Officer</td>\n",
       "      <td>0.028391</td>\n",
       "    </tr>\n",
       "    <tr>\n",
       "      <th>3</th>\n",
       "      <td>Job titles</td>\n",
       "      <td>Co-Founder</td>\n",
       "      <td>0.020505</td>\n",
       "    </tr>\n",
       "    <tr>\n",
       "      <th>4</th>\n",
       "      <td>Job titles</td>\n",
       "      <td>Data Analyst</td>\n",
       "      <td>0.01735</td>\n",
       "    </tr>\n",
       "  </tbody>\n",
       "</table>\n",
       "</div>"
      ],
      "text/plain": [
       "  Top Demographics                    Value Percentage\n",
       "0       Job titles                  Founder   0.045741\n",
       "1       Job titles        Software Engineer   0.045741\n",
       "2       Job titles  Chief Executive Officer   0.028391\n",
       "3       Job titles               Co-Founder   0.020505\n",
       "4       Job titles             Data Analyst    0.01735"
      ]
     },
     "execution_count": 62,
     "metadata": {},
     "output_type": "execute_result"
    }
   ],
   "source": [
    "DEMOGRAPHICS.head(5)"
   ]
  },
  {
   "cell_type": "code",
   "execution_count": 63,
   "id": "0bc26ef3-8b2e-457e-8618-000f76f51110",
   "metadata": {},
   "outputs": [
    {
     "name": "stdout",
     "output_type": "stream",
     "text": [
      "Founder\n",
      "Software Engineer\n",
      "Chief Executive Officer\n",
      "Co-Founder\n",
      "Data Analyst\n",
      "\n",
      "Kigali\n",
      "Accra\n",
      "London Area, United Kingdom\n",
      "Lagos\n",
      "Abuja\n",
      "\n",
      "Software Development\n",
      "IT Services and IT Consulting\n",
      "Higher Education\n",
      "Business Consulting and Services\n",
      "Education Administration Programs\n",
      "\n"
     ]
    }
   ],
   "source": [
    "Top_Job_Titles = \"\"\n",
    "Top_Locations = \"\"\n",
    "Top_Industries = \"\"\n",
    "\n",
    "\n",
    "\n",
    "# Check the value based on the \"Top Demographics\"\n",
    "for index, row in DEMOGRAPHICS.iterrows():\n",
    "    top_demographics = row['Top Demographics']\n",
    "    value = row['Value']\n",
    "    if top_demographics == 'Job titles':\n",
    "        Top_Job_Titles += f\"{value}\\n\"\n",
    "    elif top_demographics == 'Locations':\n",
    "        Top_Locations += f\"{value}\\n\"\n",
    "    elif top_demographics == 'Industries':\n",
    "        Top_Industries += f\"{value}\\n\"\n",
    "\n",
    "    \n",
    "# Display or use the result_string as needed\n",
    "print(Top_Job_Titles)\n",
    "print(Top_Locations)\n",
    "print(Top_Industries)"
   ]
  },
  {
   "cell_type": "code",
   "execution_count": 64,
   "id": "5d6c8d12-4f82-4fc8-9438-9f8394a46783",
   "metadata": {},
   "outputs": [
    {
     "name": "stdout",
     "output_type": "stream",
     "text": [
      "1. Founder\n",
      "2. Software Engineer\n",
      "3. Chief Executive Officer\n",
      "4. Co-Founder\n",
      "5. Data Analyst\n",
      "1. Kigali\n",
      "2. Accra\n",
      "3. London Area, United Kingdom\n",
      "4. Lagos\n",
      "5. Abuja\n",
      "1. Software Development\n",
      "2. IT Services and IT Consulting\n",
      "3. Higher Education\n",
      "4. Business Consulting and Services\n",
      "5. Education Administration Programs\n"
     ]
    }
   ],
   "source": [
    "Top_Job_Titles = \"\"\n",
    "Top_Locations = \"\"\n",
    "Top_Industries = \"\"\n",
    "\n",
    "# Check the value based on the \"Top Demographics\"\n",
    "for index, row in DEMOGRAPHICS.iterrows():\n",
    "    top_demographics = row['Top Demographics']\n",
    "    value = row['Value']\n",
    "    if top_demographics == 'Job titles':\n",
    "        Top_Job_Titles += f\"{value}\\n\"\n",
    "    elif top_demographics == 'Locations':\n",
    "        Top_Locations += f\"{value}\\n\"\n",
    "    elif top_demographics == 'Industries':\n",
    "        Top_Industries += f\"{value}\\n\"\n",
    "\n",
    "# Display or use the result_string as needed with numbered bullets\n",
    "\n",
    "Top_Job_Titles = \"\\n\".join([f\"{i+1}. {title}\" for i, title in enumerate(Top_Job_Titles.split(\"\\n\")[:-1])])\n",
    "print(Top_Job_Titles)\n",
    "\n",
    "Top_Locations = \"\\n\".join([f\"{i+1}. {location}\" for i, location in enumerate(Top_Locations.split(\"\\n\")[:-1])])\n",
    "print(Top_Locations)\n",
    "\n",
    "Top_Industries = \"\\n\".join([f\"{i+1}. {industry}\" for i, industry in enumerate(Top_Industries.split(\"\\n\")[:-1])])\n",
    "print(Top_Industries)\n"
   ]
  },
  {
   "cell_type": "code",
   "execution_count": 65,
   "id": "f393c45e-c822-403f-ac69-4897b63d1c8d",
   "metadata": {},
   "outputs": [
    {
     "name": "stdout",
     "output_type": "stream",
     "text": [
      "Requirement already satisfied: pillow in c:\\users\\kabstore\\appdata\\local\\programs\\python\\python311\\lib\\site-packages (10.0.1)Note: you may need to restart the kernel to use updated packages.\n"
     ]
    },
    {
     "name": "stderr",
     "output_type": "stream",
     "text": [
      "\n",
      "[notice] A new release of pip available: 22.3.1 -> 23.3.1\n",
      "[notice] To update, run: python.exe -m pip install --upgrade pip\n"
     ]
    },
    {
     "name": "stdout",
     "output_type": "stream",
     "text": [
      "\n"
     ]
    }
   ],
   "source": [
    "pip install pillow"
   ]
  },
  {
   "cell_type": "code",
   "execution_count": 132,
   "id": "3bebb3ee-e7f5-4af0-9eb8-47d2ee637005",
   "metadata": {},
   "outputs": [
    {
     "name": "stdin",
     "output_type": "stream",
     "text": [
      "Enter the name for the flyer:  Adeyemi Testimony\n",
      "Enter the path to the user's avatar image:  test.jpeg\n"
     ]
    }
   ],
   "source": [
    "from PIL import Image, ImageDraw, ImageFont, ImageOps\n",
    "\n",
    "def page1(name, avatar_path):\n",
    "    # Load the base image\n",
    "    base_image = Image.open(\"page1.png\")  # Replace with your actual template path\n",
    "\n",
    "    # Create a drawing object\n",
    "    draw = ImageDraw.Draw(base_image)\n",
    "\n",
    "    font_path = \"XP-Vosta.ttf\"  # Replace with your actual font file path\n",
    "    font_size = 34\n",
    "\n",
    "    # Load the specified font\n",
    "    font = ImageFont.truetype(font_path, font_size)\n",
    "\n",
    "    # Choose a position for the text\n",
    "    text_position = (67, 944.7)  # Replace with your desired position for the text\n",
    "\n",
    "    # Choose a color for the text\n",
    "    text_color = (255, 255, 255)  # Replace with your desired color for the text\n",
    "\n",
    "    # Draw the text on the image\n",
    "    draw.text(text_position, name, font=font, fill=text_color)\n",
    "\n",
    "    # Load the user's avatar image\n",
    "    avatar = Image.open(avatar_path)  # Replace with the actual path to the user's uploaded image\n",
    "\n",
    "    # Resize the avatar to fit into a circle\n",
    "    size = (537, 537)  # Set the desired size for the circular avatar\n",
    "    avatar = avatar.resize(size, Image.LANCZOS)  # Use Image.ANTIALIAS for antialiasing\n",
    "\n",
    "    # Create a circular mask\n",
    "    mask = Image.new(\"L\", size, 0)\n",
    "    draw_mask = ImageDraw.Draw(mask)\n",
    "    draw_mask.ellipse((0, 0, size[0], size[1]), fill=255)\n",
    "\n",
    "    # Apply the circular mask to the avatar\n",
    "    avatar = ImageOps.fit(avatar, mask.size, centering=(0.5, 0.5))\n",
    "    avatar.putalpha(mask)\n",
    "\n",
    "    # Choose a position for the circular avatar\n",
    "    avatar_position = (271, 237)  # Replace with your desired position for the circular avatar\n",
    "\n",
    "    # Paste the circular avatar onto the base image\n",
    "    base_image.paste(avatar, avatar_position, avatar)\n",
    "\n",
    "    # Save or display the resulting image\n",
    "    base_image.save(\"page1Edit.png\")  # Replace with your desired output path\n",
    "    base_image.show()\n",
    "\n",
    "# Example usage\n",
    "user_name = input(\"Enter the name for the flyer: \")\n",
    "user_avatar_path = input(\"Enter the path to the user's avatar image: \")\n",
    "page1(user_name, user_avatar_path)\n"
   ]
  },
  {
   "cell_type": "code",
   "execution_count": 134,
   "id": "51fcfd40-faa0-46de-8cc4-1efe3a5bf533",
   "metadata": {},
   "outputs": [],
   "source": [
    "def page2(name, avatar_path):\n",
    "    # Load the base image\n",
    "    base_image = Image.open(\"page2.png\")  # Replace with your actual template path\n",
    "\n",
    "    # Create a drawing object\n",
    "    draw = ImageDraw.Draw(base_image)\n",
    "\n",
    "    font_path = \"XP-Vosta.ttf\"  # Replace with your actual font file path\n",
    "    font_size1 = 77\n",
    "    font1 = ImageFont.truetype(font_path, font_size1)\n",
    "    text_position1 = (108, 266.8)  # Replace with your desired position for the text\n",
    "    text_color1 = (255, 255, 255)  # Replace with your desired color for the text\n",
    "\n",
    "\n",
    "    font_size1 = 77\n",
    "    font2 = ImageFont.truetype(font_path, font_size1)\n",
    "    text_position2 = (108, 530.7)  # Replace with your desired position for the text\n",
    "    text_color1 = (255, 255, 255)  # Replace with your desired color for the text\n",
    "    \n",
    "    # Draw the text on the image\n",
    "    \n",
    "    draw.text(text_position1, Total_New_FOLLOWER, font=font1, fill=text_color1)\n",
    "    draw.text(text_position2, New_followers, font=font2, fill=text_color1)\n",
    "    \n",
    "\n",
    "   # Load the user's avatar image\n",
    "    avatar = Image.open(avatar_path)  # Replace with the actual path to the user's uploaded image\n",
    "\n",
    "    # Resize the avatar to fit into a circle\n",
    "    size = (496, 496)  # Set the desired size for the circular avatar\n",
    "    avatar = avatar.resize(size, Image.LANCZOS)  # Use Image.ANTIALIAS for antialiasing\n",
    "\n",
    "    # Create a circular mask\n",
    "    mask = Image.new(\"L\", size, 0)\n",
    "    draw_mask = ImageDraw.Draw(mask)\n",
    "    draw_mask.ellipse((0, 0, size[0], size[1]), fill=255)\n",
    "\n",
    "    # Apply the circular mask to the avatar\n",
    "    avatar = ImageOps.fit(avatar, mask.size, centering=(0.5, 0.5))\n",
    "    avatar.putalpha(mask)\n",
    "\n",
    "    # Choose a position for the circular avatar\n",
    "    avatar_position = (493, 265)  # Replace with your desired position for the circular avatar\n",
    "\n",
    "    # Paste the circular avatar onto the base image\n",
    "    base_image.paste(avatar, avatar_position, avatar)\n",
    "\n",
    "    # Save or display the resulting image\n",
    "    base_image.save(\"page2Edit.png\")  # Replace with your desired output path\n",
    "    base_image.show()\n",
    "\n",
    "# Example usage\n",
    "page2(user_name, user_avatar_path)"
   ]
  },
  {
   "cell_type": "code",
   "execution_count": 140,
   "id": "ec8e4abd-94dc-4af5-9a56-24973048d618",
   "metadata": {},
   "outputs": [],
   "source": [
    "user_avatar_path = 'test.jpeg'\n",
    "avatar_path = 'test.jpeg'\n",
    "def page3(user_name, user_avatar_path):\n",
    "    # Load the base image\n",
    "    base_image = Image.open(\"page3.png\")  # Replace with your actual template path\n",
    "\n",
    "    # Create a drawing object\n",
    "    draw = ImageDraw.Draw(base_image)\n",
    "\n",
    "    font_path = \"XP-Vosta.ttf\"  # Replace with your actual font file path\n",
    "    font_size1 = 70\n",
    "    font1 = ImageFont.truetype(font_path, font_size1)\n",
    "    text_position1 = (108, 265)  # Replace with your desired position for the text\n",
    "    text_color1 = (255, 255, 255)  # Replace with your desired color for the text\n",
    "\n",
    "\n",
    "    font_size1 = 70\n",
    "    font2 = ImageFont.truetype(font_path, font_size1)\n",
    "    text_position2 = (108, 493)  # Replace with your desired position for the text\n",
    "    text_color1 = (255, 255, 255)  # Replace with your desired color for the text\n",
    "    \n",
    "    # Draw the text on the image\n",
    "    \n",
    "    draw.text(text_position1, Total_Impressions, font=font1, fill=text_color1)\n",
    "    draw.text(text_position2, Total_Engagements, font=font2, fill=text_color1)\n",
    "    \n",
    "\n",
    "   # Load the user's avatar image\n",
    "    \n",
    "    avatar = Image.open(avatar_path)  # Replace with the actual path to the user's uploaded image\n",
    "\n",
    "    # Resize the avatar to fit into a circle\n",
    "    size = (496, 496)  # Set the desired size for the circular avatar\n",
    "    avatar = avatar.resize(size, Image.LANCZOS)  # Use Image.ANTIALIAS for antialiasing\n",
    "\n",
    "    # Create a circular mask\n",
    "    mask = Image.new(\"L\", size, 0)\n",
    "    draw_mask = ImageDraw.Draw(mask)\n",
    "    draw_mask.ellipse((0, 0, size[0], size[1]), fill=255)\n",
    "\n",
    "    # Apply the circular mask to the avatar\n",
    "    avatar = ImageOps.fit(avatar, mask.size, centering=(0.5, 0.5))\n",
    "    avatar.putalpha(mask)\n",
    "\n",
    "    # Choose a position for the circular avatar\n",
    "    avatar_position = (493, 265)  # Replace with your desired position for the circular avatar\n",
    "\n",
    "    # Paste the circular avatar onto the base image\n",
    "    base_image.paste(avatar, avatar_position, avatar)\n",
    "\n",
    "    # Save or display the resulting image\n",
    "    base_image.save(\"page3Edit.png\")  # Replace with your desired output path\n",
    "    base_image.show()\n",
    "\n",
    "# Example usage\n",
    "page3(user_name, user_avatar_path)"
   ]
  },
  {
   "cell_type": "code",
   "execution_count": 152,
   "id": "b82a4076-4087-4036-8bd0-a0532e4a5b17",
   "metadata": {},
   "outputs": [],
   "source": [
    "def page4(user_name, user_avatar_path):\n",
    "    # Load the base image\n",
    "    base_image = Image.open(\"page4.png\")  # Replace with your actual template path\n",
    "\n",
    "    # Create a drawing object\n",
    "    draw = ImageDraw.Draw(base_image)\n",
    "\n",
    "    font_path = \"XP-Vosta.ttf\"  # Replace with your actual font file path\n",
    "    font_size1 = 36\n",
    "    font1 = ImageFont.truetype(font_path, font_size1)\n",
    "    text_position1 = (110, 280)  # Replace with your desired position for the text\n",
    "    text_color1 = (255, 255, 255)  # Replace with your desired color for the text\n",
    "\n",
    "    # Draw the text on the image\n",
    "    \n",
    "    draw.text(text_position1, Top_Locations, font=font1, fill=text_color1)\n",
    "    \n",
    "\n",
    "   # Load the user's avatar image\n",
    "    avatar = Image.open('test.jpeg')  # Replace with the actual path to the user's uploaded image\n",
    "\n",
    "    # Resize the avatar to fit into a circle\n",
    "    size = (496, 496)  # Set the desired size for the circular avatar\n",
    "    avatar = avatar.resize(size, Image.LANCZOS)  # Use Image.ANTIALIAS for antialiasing\n",
    "\n",
    "    # Create a circular mask\n",
    "    mask = Image.new(\"L\", size, 0)\n",
    "    draw_mask = ImageDraw.Draw(mask)\n",
    "    draw_mask.ellipse((0, 0, size[0], size[1]), fill=255)\n",
    "\n",
    "    # Apply the circular mask to the avatar\n",
    "    avatar = ImageOps.fit(avatar, mask.size, centering=(0.5, 0.5))\n",
    "    avatar.putalpha(mask)\n",
    "\n",
    "    # Choose a position for the circular avatar\n",
    "    avatar_position = (516, 499)  # Replace with your desired position for the circular avatar\n",
    "\n",
    "    # Paste the circular avatar onto the base image\n",
    "    base_image.paste(avatar, avatar_position, avatar)\n",
    "\n",
    "    # Save or display the resulting image\n",
    "    base_image.save(\"page4Edit.png\")  # Replace with your desired output path\n",
    "    base_image.show()\n",
    "\n",
    "# Example usage\n",
    "page4(user_name, user_avatar_path)"
   ]
  },
  {
   "cell_type": "code",
   "execution_count": 149,
   "id": "8c9ca658-14ea-45ab-a767-0d7e6f3ee69e",
   "metadata": {},
   "outputs": [],
   "source": [
    "def page5(user_name, user_avatar_path):\n",
    "    # Load the base image\n",
    "    base_image = Image.open(\"page5.png\")  # Replace with your actual template path\n",
    "\n",
    "    # Create a drawing object\n",
    "    draw = ImageDraw.Draw(base_image)\n",
    "\n",
    "    font_path = \"XP-Vosta.ttf\"  # Replace with your actual font file path\n",
    "    font_size1 = 36\n",
    "    font1 = ImageFont.truetype(font_path, font_size1)\n",
    "    text_position1 = (110, 299)  # Replace with your desired position for the text\n",
    "    text_color1 = (255, 255, 255)  # Replace with your desired color for the text\n",
    "\n",
    "    # Draw the text on the image\n",
    "    \n",
    "    draw.text(text_position1, Top_Job_Titles, font=font1, fill=text_color1)\n",
    "    \n",
    "\n",
    "   # Load the user's avatar image\n",
    "    avatar = Image.open('test.jpeg')  # Replace with the actual path to the user's uploaded image\n",
    "\n",
    "    # Resize the avatar to fit into a circle\n",
    "    size = (496, 496)  # Set the desired size for the circular avatar\n",
    "    avatar = avatar.resize(size, Image.LANCZOS)  # Use Image.ANTIALIAS for antialiasing\n",
    "\n",
    "    # Create a circular mask\n",
    "    mask = Image.new(\"L\", size, 0)\n",
    "    draw_mask = ImageDraw.Draw(mask)\n",
    "    draw_mask.ellipse((0, 0, size[0], size[1]), fill=255)\n",
    "\n",
    "    # Apply the circular mask to the avatar\n",
    "    avatar = ImageOps.fit(avatar, mask.size, centering=(0.5, 0.5))\n",
    "    avatar.putalpha(mask)\n",
    "\n",
    "    # Choose a position for the circular avatar\n",
    "    avatar_position = (516, 499)  # Replace with your desired position for the circular avatar\n",
    "\n",
    "    # Paste the circular avatar onto the base image\n",
    "    base_image.paste(avatar, avatar_position, avatar)\n",
    "\n",
    "    # Save or display the resulting image\n",
    "    base_image.save(\"page5Edit.png\")  # Replace with your desired output path\n",
    "    base_image.show()\n",
    "\n",
    "# Example usage\n",
    "page5(user_name, user_avatar_path)"
   ]
  },
  {
   "cell_type": "code",
   "execution_count": 153,
   "id": "1f596638-5026-48d4-a072-96de34fb52ab",
   "metadata": {},
   "outputs": [],
   "source": [
    "def page6(user_name, user_avatar_path):\n",
    "    # Load the base image\n",
    "    base_image = Image.open(\"page6.png\")  # Replace with your actual template path   \n",
    "\n",
    "   # Load the user's avatar image\n",
    "    avatar = Image.open('test.jpeg')  # Replace with the actual path to the user's uploaded image\n",
    "\n",
    "    # Resize the avatar to fit into a circle\n",
    "    size = (600, 600)  # Set the desired size for the circular avatar\n",
    "    avatar = avatar.resize(size, Image.LANCZOS)  # Use Image.ANTIALIAS for antialiasing\n",
    "\n",
    "    # Create a circular mask\n",
    "    mask = Image.new(\"L\", size, 0)\n",
    "    draw_mask = ImageDraw.Draw(mask)\n",
    "    draw_mask.ellipse((0, 0, size[0], size[1]), fill=255)\n",
    "\n",
    "    # Apply the circular mask to the avatar\n",
    "    avatar = ImageOps.fit(avatar, mask.size, centering=(0.5, 0.5))\n",
    "    avatar.putalpha(mask)\n",
    "\n",
    "    # Choose a position for the circular avatar\n",
    "    avatar_position = (240, 235)  # Replace with your desired position for the circular avatar\n",
    "\n",
    "    # Paste the circular avatar onto the base image\n",
    "    base_image.paste(avatar, avatar_position, avatar)\n",
    "\n",
    "    # Save or display the resulting image\n",
    "    base_image.save(\"page6Edit.png\")  # Replace with your desired output path\n",
    "    base_image.show()\n",
    "\n",
    "# Example usage\n",
    "page6(user_name, user_avatar_path)"
   ]
  },
  {
   "cell_type": "code",
   "execution_count": null,
   "id": "6655de5d-f055-4e5a-a494-a74f7faaa0a1",
   "metadata": {},
   "outputs": [],
   "source": []
  }
 ],
 "metadata": {
  "kernelspec": {
   "display_name": "Python 3 (ipykernel)",
   "language": "python",
   "name": "python3"
  },
  "language_info": {
   "codemirror_mode": {
    "name": "ipython",
    "version": 3
   },
   "file_extension": ".py",
   "mimetype": "text/x-python",
   "name": "python",
   "nbconvert_exporter": "python",
   "pygments_lexer": "ipython3",
   "version": "3.11.3"
  }
 },
 "nbformat": 4,
 "nbformat_minor": 5
}
